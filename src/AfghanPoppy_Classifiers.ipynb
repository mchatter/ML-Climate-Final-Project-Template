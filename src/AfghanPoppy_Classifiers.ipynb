{
  "nbformat": 4,
  "nbformat_minor": 0,
  "metadata": {
    "colab": {
      "name": "AfghanPoppy_Classifiers.ipynb",
      "provenance": [],
      "collapsed_sections": []
    },
    "kernelspec": {
      "name": "python3",
      "display_name": "Python 3"
    },
    "language_info": {
      "name": "python"
    }
  },
  "cells": [
    {
      "cell_type": "markdown",
      "source": [
        "## **Feature Engineering**\n",
        "\n",
        "Get the CSVs into DataFrames\n",
        "\n",
        "Opium Sown: Have number of sown hectares for each district in each province for each year between 2010 - 2020, except for part of Bamyan, Day Kundi, Farah, Faryab, Ghazni, and Ghor, where we have 2008-2018 data. Pending further investigation, we will code these provinces with zeros. All fields marked '-' or 'p-f' (poppy-free) in the CSV are replaced by zeros. Data is of numerical type. All NaN values are set to zero.\n",
        "\n",
        "Soil Data: Dropped the WRB Codes column because it contained numerous inaccuracies as an artefact of the scraping process and because it was collinear with the Soil Type column. Soil Type column was categorical and has been turned into dummy variables with one hot encoding. All other data was of numerical type. Province name is broadcast for each row of soil sample information. All fields marked (-)(-) in the CSV are replaced by zeros. Dataframe only contains the estimates of sown areas. All margin of error information is removed from the dataframe. All NaN values are set to zero.\n",
        "\n",
        "BIG CAVEAT FOR SOIL DATA: We do not unique soil data for all 34 provinces. We only have soil data for 9 provinces. I cannot find any up to date soil data for all the provinces - only PDF maps from 2011 that shows topsoil texture distribution (source: Afghan Geodesy and Cartography Head Office, conforms to United Nations Afghanistan Regions 3958.1 R3, June 2011), and qualitative assessments from the UNODC Opium Yields reports. So we are going to subjectively broadcast the soil data from each of the 9 provinces to the closest provinces whose topsoil texture distributions closely resemble each others per the 2011 maps. To get a single reading for each province, we will consider the area of each soil type in each province as the \"weight\" vector and multiply it to the respective chemical measurement of that soil type, and take the sum of each multiplied column, kind of like a weighted average. And so we will have with subjective soil quality metrics for each province. But these broadcast readings should be subsituted with unique soil sample results as soon as the data becomes available.\n",
        "\n",
        "Temperature and Precipitation Data: All data is transposed such that the years are columns and months are rows. Province name is broadcast for each row of climatological information. All NaN values are set to zero. Data is of numerical type.\n",
        "\n"
      ],
      "metadata": {
        "id": "CN1YjZhmVqU4"
      }
    },
    {
      "cell_type": "code",
      "source": [
        "import pandas as pd\n",
        "import os\n",
        "import numpy as np"
      ],
      "metadata": {
        "id": "CFb6EZYVVyBp"
      },
      "execution_count": 1,
      "outputs": []
    },
    {
      "cell_type": "code",
      "execution_count": 2,
      "metadata": {
        "colab": {
          "base_uri": "https://localhost:8080/"
        },
        "id": "Da4numPnQYds",
        "outputId": "4dce6ad4-f657-4c43-8dc6-5e245baae349"
      },
      "outputs": [
        {
          "output_type": "stream",
          "name": "stdout",
          "text": [
            "Features Compiled. Dataframes:\n",
            "Opium Sown\n",
            "       Province Years Hectares_Sown\n",
            "0    Badakhshan  2010          1100\n",
            "1       Badghis  2010          2958\n",
            "2       Baghlan  2010             0\n",
            "3         Balkh  2010             0\n",
            "4     Nangarhar  2010           719\n",
            "..          ...   ...           ...\n",
            "369    Panjsher  2020             0\n",
            "370      Parwan  2020             0\n",
            "371    Samangan  2020             0\n",
            "372   Sar-e-Pul  2020             0\n",
            "373      Takhar  2020             0\n",
            "\n",
            "[374 rows x 3 columns]\n",
            "Governance Indicators\n",
            "    Years  Control of Corruption: Estimate  \\\n",
            "0    2010                        -1.636177   \n",
            "1    2011                        -1.579174   \n",
            "2    2012                        -1.419741   \n",
            "3    2013                        -1.436510   \n",
            "4    2014                        -1.354829   \n",
            "5    2015                        -1.342216   \n",
            "6    2016                        -1.526172   \n",
            "7    2017                        -1.515626   \n",
            "8    2018                        -1.487624   \n",
            "9    2019                        -1.400733   \n",
            "10   2020                        -1.475405   \n",
            "\n",
            "    Government Effectiveness: Estimate  \\\n",
            "0                            -1.454611   \n",
            "1                            -1.448444   \n",
            "2                            -1.360196   \n",
            "3                            -1.385382   \n",
            "4                            -1.332015   \n",
            "5                            -1.323176   \n",
            "6                            -1.226401   \n",
            "7                            -1.325545   \n",
            "8                            -1.453096   \n",
            "9                            -1.463065   \n",
            "10                           -1.523115   \n",
            "\n",
            "    Political Stability and Absence of Violence/Terrorism: Estimate  \\\n",
            "0                                           -2.579152                 \n",
            "1                                           -2.502060                 \n",
            "2                                           -2.418561                 \n",
            "3                                           -2.519349                 \n",
            "4                                           -2.411068                 \n",
            "5                                           -2.571222                 \n",
            "6                                           -2.671054                 \n",
            "7                                           -2.801084                 \n",
            "8                                           -2.763864                 \n",
            "9                                           -2.655531                 \n",
            "10                                          -2.729808                 \n",
            "\n",
            "    Regulatory Quality: Estimate  Rule of Law: Estimate  \n",
            "0                      -1.532861              -1.845427  \n",
            "1                      -1.540586              -1.896546  \n",
            "2                      -1.193118              -1.643081  \n",
            "3                      -1.193137              -1.597348  \n",
            "4                      -1.118182              -1.445761  \n",
            "5                      -0.997371              -1.504086  \n",
            "6                      -1.327688              -1.498478  \n",
            "7                      -1.336691              -1.562423  \n",
            "8                      -1.133277              -1.664038  \n",
            "9                      -1.120690              -1.713714  \n",
            "10                     -1.378587              -1.807697  \n",
            "Soil Data\n",
            "      Province  Sand_Perc  Clay_Perc   OM_Perc  pH_Water        EC  \\\n",
            "0     Kandahar  62.086269  14.910295  0.840974  7.929618  0.742861   \n",
            "1      Uruzgan  62.086269  14.910295  0.840974  7.929618  0.742861   \n",
            "2        Zabul  62.086269  14.910295  0.840974  7.929618  0.742861   \n",
            "3       Bamyan  60.661439   4.905354  0.877024  7.993465  0.310647   \n",
            "4    Day Kundi  60.661439   4.905354  0.877024  7.993465  0.310647   \n",
            "5         Ghor  60.661439   4.905354  0.877024  7.993465  0.310647   \n",
            "6       Ghazni  60.661439   4.905354  0.877024  7.993465  0.310647   \n",
            "7       Nimroz  60.400277   5.867435  2.579025  7.857396  0.216705   \n",
            "8      Hilmand  60.400277   5.867435  2.579025  7.857396  0.216705   \n",
            "9        Balkh  30.767129  11.333975  0.684140  7.874907  1.328922   \n",
            "10      Kunduz  30.767129  11.333975  0.684140  7.874907  1.328922   \n",
            "11     Jawzjan  30.767129  11.333975  0.684140  7.874907  1.328922   \n",
            "12    Samangan  30.767129  11.333975  0.684140  7.874907  1.328922   \n",
            "13   Sar-e-Pul  30.767129  11.333975  0.684140  7.874907  1.328922   \n",
            "14      Faryab  30.767129  11.333975  0.684140  7.874907  1.328922   \n",
            "15       Kabul  60.623017  13.812358  0.883466  8.055380  0.381093   \n",
            "16      Wardak  60.623017  13.812358  0.883466  8.055380  0.381093   \n",
            "17       Logar  60.623017  13.812358  0.883466  8.055380  0.381093   \n",
            "18      Kapisa  60.623017  13.812358  0.883466  8.055380  0.381093   \n",
            "19      Parwan  60.623017  13.812358  0.883466  8.055380  0.381093   \n",
            "20      Takhar  54.743620   9.978951  1.166931  7.730527  0.363926   \n",
            "21  Badakhshan  54.743620   9.978951  1.166931  7.730527  0.363926   \n",
            "22     Baghlan  54.743620   9.978951  1.166931  7.730527  0.363926   \n",
            "23    Panjsher  54.743620   9.978951  1.166931  7.730527  0.363926   \n",
            "24    Nuristan  54.743620   9.978951  1.166931  7.730527  0.363926   \n",
            "25   Nangarhar  62.121814  11.443771  0.564441  8.049595  0.241841   \n",
            "26       Kunar  62.121814  11.443771  0.564441  8.049595  0.241841   \n",
            "27     Laghman  62.121814  11.443771  0.564441  8.049595  0.241841   \n",
            "28       Hirat  33.132586  30.843317  2.420325  8.078585  1.088076   \n",
            "29     Badghis  33.132586  30.843317  2.420325  8.078585  1.088076   \n",
            "30       Farah  33.132586  30.843317  2.420325  8.078585  1.088076   \n",
            "31       Khost  54.983806  16.427164  1.567991  8.151691  0.197600   \n",
            "32     Paktika  54.983806  16.427164  1.567991  8.151691  0.197600   \n",
            "33      Paktya  54.983806  16.427164  1.567991  8.151691  0.197600   \n",
            "\n",
            "     Tot_N_ppm      P_ppm  K_ton_per_ha      S_ppm  CaCO_ton_per_ha3  \n",
            "0    36.879112  32.179072      1.540933   7.549862        954.943891  \n",
            "1    36.879112  32.179072      1.540933   7.549862        954.943891  \n",
            "2    36.879112  32.179072      1.540933   7.549862        954.943891  \n",
            "3     0.000000  29.910692      0.000000  31.192708        368.312660  \n",
            "4     0.000000  29.910692      0.000000  31.192708        368.312660  \n",
            "5     0.000000  29.910692      0.000000  31.192708        368.312660  \n",
            "6     0.000000  29.910692      0.000000  31.192708        368.312660  \n",
            "7     0.000000   6.557247      0.000000  16.407342        708.472157  \n",
            "8     0.000000   6.557247      0.000000  16.407342        708.472157  \n",
            "9    26.190506  39.565855      0.508154  28.005581        573.195026  \n",
            "10   26.190506  39.565855      0.508154  28.005581        573.195026  \n",
            "11   26.190506  39.565855      0.508154  28.005581        573.195026  \n",
            "12   26.190506  39.565855      0.508154  28.005581        573.195026  \n",
            "13   26.190506  39.565855      0.508154  28.005581        573.195026  \n",
            "14   26.190506  39.565855      0.508154  28.005581        573.195026  \n",
            "15   50.948146   5.927914      0.361737  25.514979       1026.660934  \n",
            "16   50.948146   5.927914      0.361737  25.514979       1026.660934  \n",
            "17   50.948146   5.927914      0.361737  25.514979       1026.660934  \n",
            "18   50.948146   5.927914      0.361737  25.514979       1026.660934  \n",
            "19   50.948146   5.927914      0.361737  25.514979       1026.660934  \n",
            "20  134.134596   5.735305      0.505954  63.359424       1065.225668  \n",
            "21  134.134596   5.735305      0.505954  63.359424       1065.225668  \n",
            "22  134.134596   5.735305      0.505954  63.359424       1065.225668  \n",
            "23  134.134596   5.735305      0.505954  63.359424       1065.225668  \n",
            "24  134.134596   5.735305      0.505954  63.359424       1065.225668  \n",
            "25   44.752474  32.108523      0.001029  27.443341        576.617863  \n",
            "26   44.752474  32.108523      0.001029  27.443341        576.617863  \n",
            "27   44.752474  32.108523      0.001029  27.443341        576.617863  \n",
            "28  142.083959  63.610077      0.000000   1.307929        734.947218  \n",
            "29  142.083959  63.610077      0.000000   1.307929        734.947218  \n",
            "30  142.083959  63.610077      0.000000   1.307929        734.947218  \n",
            "31   39.386921  12.788920      2.423182   7.935376       1219.878592  \n",
            "32   39.386921  12.788920      2.423182   7.935376       1219.878592  \n",
            "33   39.386921  12.788920      2.423182   7.935376       1219.878592  \n",
            "Climate Data\n",
            "     Province  Years  mean_precip_Apr  mean_precip_Aug  mean_precip_Dec  \\\n",
            "0    Kandahar   2010            16.06            87.79            56.57   \n",
            "1    Kandahar   2011            35.49            27.06            16.43   \n",
            "2    Kandahar   2012             8.97            70.40            47.84   \n",
            "3    Kandahar   2013            16.22            24.31            18.08   \n",
            "4    Kandahar   2014            17.43            30.66            49.04   \n",
            "..        ...    ...              ...              ...              ...   \n",
            "369     Zabul   2016            61.10            42.76            50.39   \n",
            "370     Zabul   2017            11.28            48.56            58.01   \n",
            "371     Zabul   2018            44.78            53.74            76.39   \n",
            "372     Zabul   2019            75.88            45.54            83.41   \n",
            "373     Zabul   2020             0.00             0.00             0.00   \n",
            "\n",
            "     mean_precip_Feb  mean_precip_Jan  mean_precip_Jul  mean_precip_Jun  \\\n",
            "0              45.88             3.34             1.43             1.03   \n",
            "1              46.54             3.35             0.66             1.34   \n",
            "2              31.83             2.06             1.72             0.73   \n",
            "3              22.17             4.99             1.33             0.90   \n",
            "4              20.22             4.19             1.32             2.24   \n",
            "..               ...              ...              ...              ...   \n",
            "369            17.37            10.91             3.04             8.26   \n",
            "370            46.89            12.02             7.13             6.37   \n",
            "371            69.77            24.79             5.86            13.66   \n",
            "372            43.19            35.42             3.16             5.81   \n",
            "373             0.00             0.00             0.00             0.00   \n",
            "\n",
            "     mean_precip_Mar  ...  mean_temp_Dec  mean_temp_Feb  mean_temp_Jan  \\\n",
            "0               9.00  ...          17.78          23.32          26.83   \n",
            "1               1.59  ...          15.01          20.53          28.02   \n",
            "2               6.97  ...          14.29          19.91          25.95   \n",
            "3               1.02  ...          14.52          19.87          26.24   \n",
            "4               2.05  ...          12.99          20.26          24.73   \n",
            "..               ...  ...            ...            ...            ...   \n",
            "369             8.31  ...           9.36          15.64          21.21   \n",
            "370             5.65  ...           9.65          16.95          21.69   \n",
            "371            11.34  ...          12.30          16.82          20.10   \n",
            "372            21.82  ...           8.27          15.60          19.09   \n",
            "373             0.00  ...           8.21          14.44          19.66   \n",
            "\n",
            "     mean_temp_Jul  mean_temp_Jun  mean_temp_Mar  mean_temp_May  \\\n",
            "0            29.45          31.31          29.17          23.86   \n",
            "1            31.09          31.59          30.24          24.53   \n",
            "2            29.30          32.43          29.87          24.19   \n",
            "3            30.57          32.18          29.19          26.04   \n",
            "4            30.88          32.38          30.23          25.90   \n",
            "..             ...            ...            ...            ...   \n",
            "369          25.67          27.25          24.85          21.67   \n",
            "370          25.33          26.45          25.06          20.62   \n",
            "371          25.52          27.04          25.95          21.01   \n",
            "372          24.35          27.13          25.05          22.33   \n",
            "373          24.51          26.78          25.56          19.87   \n",
            "\n",
            "     mean_temp_Nov  mean_temp_Oct  mean_temp_Sep  \n",
            "0            20.30          11.55           6.60  \n",
            "1            19.15          13.69           6.23  \n",
            "2            18.32          12.05           7.79  \n",
            "3            20.35          11.89           7.64  \n",
            "4            19.53          11.76           6.79  \n",
            "..             ...            ...            ...  \n",
            "369          14.99           7.22           5.50  \n",
            "370          16.02           7.71           3.43  \n",
            "371          13.86           8.33           4.13  \n",
            "372          14.65           6.56           2.97  \n",
            "373          13.07           6.43           2.22  \n",
            "\n",
            "[374 rows x 26 columns]\n"
          ]
        }
      ],
      "source": [
        "tract_directory = \"/content/ML-Climate-Final-Project-Template/data\"\n",
        "opium_sown = None\n",
        "soil_data = None\n",
        "temp_data = None\n",
        "precip_data = None\n",
        "climate_data = None\n",
        "for filename in os.listdir(tract_directory):\n",
        "  fn = tract_directory + '/' + filename\n",
        "  if \"WGI\" in fn:\n",
        "    governance_indicators = pd.read_csv (fn, header=0)\n",
        "  if \"Opium\" in fn:\n",
        "    section_frame = pd.read_csv (fn, header=0)\n",
        "    section_frame.dropna(how='all', inplace=True)\n",
        "    section_frame = section_frame.loc[:, ~section_frame.columns.str.contains('^Unnamed')]\n",
        "    section_frame = section_frame[(section_frame['Province'].str.contains(\"Total\")==True) | (section_frame['District'].str.contains(\"Total\")==True)]\n",
        "    section_frame.fillna('', inplace=True)\n",
        "    section_frame[\"combo\"] = section_frame[\"Province\"] + section_frame[\"District\"]\n",
        "    section_frame['new province'] = section_frame['combo'].map(lambda tot_str: tot_str.partition('Total')[0])\n",
        "    Y_sown = section_frame.drop(['Province', 'District', 'combo', 'new province'], axis=1)\n",
        "    Y_sown.replace(regex={'[^0-9]': 0}, inplace=True)\n",
        "    Y_sown[\"Province\"] = section_frame['new province']\n",
        "    Y_sown.replace(regex={'Sari  Pul': 'Sar-e-Pul'}, inplace=True)\n",
        "    Y_sown.replace(regex={'\\s+$': ''}, inplace=True)\n",
        "    if opium_sown is None:\n",
        "      opium_sown = Y_sown\n",
        "    else:\n",
        "      opium_sown = pd.concat([opium_sown, Y_sown]).reset_index(drop=True)\n",
        "      opium_sown.fillna(0, inplace=True)    \n",
        "\n",
        "  if \"Soil\" in fn:\n",
        "    section_frame = pd.read_csv (fn, header=0)\n",
        "    section_frame.set_axis(['WRB_Code', 'Soil_Type', 'Area', 'Sand_Perc', 'Clay_Perc', 'OM_Perc', 'pH_Water', 'EC', 'Tot_N_ppm', 'P_ppm', 'K_ton_per_ha', 'S_ppm', 'CaCO_ton_per_ha3'], axis=1, inplace=True)\n",
        "    section_frame.drop(['WRB_Code', 'Soil_Type'], axis=1, inplace=True)\n",
        "    section_frame.replace(regex={'\\(+.*': '', '±.*': '', ' ±.*': '', ' \\(±.*': '', '\\(-\\)\\(-\\)': 0,  '\\(±.*': ''}, inplace=True)\n",
        "    section_frame.replace(regex={'[^0-9.]': ''}, inplace=True)\n",
        "    section_frame.replace(r'^\\s*$', np.NaN, regex=True, inplace=True)\n",
        "    section_frame.fillna(0, inplace=True)\n",
        "    section_frame.dropna(how='all', inplace=True)\n",
        "    section_frame = section_frame.astype('float')\n",
        "    \n",
        "    province = filename.split('_')[0]\n",
        "    if province == 'Balkh':\n",
        "      similar_provs = ['Balkh', 'Kunduz', 'Jawzjan', 'Samangan', 'Sar-e-Pul', 'Faryab']\n",
        "    elif province == 'Bamyan':\n",
        "      similar_provs = ['Bamyan', 'Day Kundi', 'Ghor', 'Ghazni']\n",
        "    elif province == 'Hirat':\n",
        "      similar_provs = ['Hirat', 'Badghis', 'Farah']\n",
        "    elif province == 'Kabul':\n",
        "      similar_provs = ['Kabul', 'Wardak', 'Logar', 'Kapisa', 'Parwan']\n",
        "    elif province == 'Kandahar':\n",
        "      similar_provs = ['Kandahar', 'Uruzgan', 'Zabul']\n",
        "    elif province == 'Khost':\n",
        "      similar_provs = ['Khost', 'Paktika', 'Paktya']\n",
        "    elif province == 'Nangarhar':\n",
        "      similar_provs = ['Nangarhar', 'Kunar', 'Laghman']\n",
        "    elif province == 'Nimroz':\n",
        "      similar_provs = ['Nimroz', 'Hilmand']\n",
        "    elif province == 'Takhar':\n",
        "      similar_provs = ['Takhar', 'Badakhshan', 'Baghlan', 'Panjsher', 'Nuristan']\n",
        "\n",
        "    X_soil = pd.DataFrame(similar_provs, columns=['Province'])\n",
        "    for col_name in section_frame.columns.values.tolist():\n",
        "      if col_name != 'Area':\n",
        "        X_soil[col_name] = pd.Series(section_frame['Area'] * section_frame[col_name]).sum()\n",
        "        X_soil[col_name]  = X_soil[col_name] / pd.Series(section_frame['Area']).sum()\n",
        "\n",
        "    if soil_data is None:\n",
        "      soil_data = X_soil\n",
        "    else:\n",
        "      soil_data = pd.concat([soil_data, X_soil]).reset_index(drop=True)\n",
        "\n",
        "  if (\"pr\" in fn) or (\"tas\" in fn):\n",
        "    info = pd.read_csv(fn, skiprows=2, nrows=0)\n",
        "    section_frame = pd.read_csv (fn, skiprows=3)\n",
        "    section_frame.rename(columns={'Unnamed: 0':'Years'}, inplace=True )\n",
        "    section_frame.drop(section_frame[section_frame['Years'] < 2010].index, inplace = True)\n",
        "    section_frame.insert(loc=0, column='Province', value=info.columns[1])\n",
        "    section_frame.replace(regex={'Daykundi': 'Day Kundi'}, inplace=True)\n",
        "    section_frame.fillna(0, inplace=True)\n",
        "    if \"pr\" in fn:\n",
        "      section_frame.columns = section_frame.columns[:2].union('mean_precip_' + section_frame.columns[2:])\n",
        "      if precip_data is None:\n",
        "        precip_data = section_frame\n",
        "      else:\n",
        "        precip_data = pd.concat([precip_data, section_frame]).reset_index(drop=True)\n",
        "\n",
        "    elif \"tas\" in fn:\n",
        "      section_frame.columns = section_frame.columns[:2].union('mean_temp_' + section_frame.columns[2:])\n",
        "      if temp_data is None:\n",
        "        temp_data = section_frame\n",
        "      else:\n",
        "        temp_data = pd.concat([temp_data, section_frame]).reset_index(drop=True)\n",
        "\n",
        "climate_data = precip_data.merge(temp_data, on=['Province', 'Years'])\n",
        "\n",
        "province_list = [\n",
        "                 'Balkh', \n",
        "                 'Kunduz', \n",
        "                 'Jawzjan', \n",
        "                 'Samangan', \n",
        "                 'Sar-e-Pul', \n",
        "                 'Faryab', \n",
        "                 'Bamyan', \n",
        "                 'Day Kundi', \n",
        "                 'Ghor', \n",
        "                 'Ghazni', \n",
        "                 'Hirat', \n",
        "                 'Badghis', \n",
        "                 'Farah', \n",
        "                 'Kabul', \n",
        "                 'Wardak', \n",
        "                 'Logar', \n",
        "                 'Kapisa', \n",
        "                 'Parwan', \n",
        "                 'Kandahar', \n",
        "                 'Uruzgan', \n",
        "                 'Zabul', \n",
        "                 'Khost', \n",
        "                 'Paktika', \n",
        "                 'Paktya', \n",
        "                 'Nangarhar', \n",
        "                 'Kunar', \n",
        "                 'Laghman',\n",
        "                 'Nimroz',\n",
        "                 'Hilmand',\n",
        "                 'Takhar', \n",
        "                 'Badakhshan', \n",
        "                 'Baghlan', \n",
        "                 'Panjsher', \n",
        "                 'Nuristan'\n",
        "                 ]\n",
        "opium_sown = opium_sown[opium_sown['Province'].isin(province_list)]\n",
        "opium_sown = opium_sown.melt(id_vars=['Province'], var_name=\"Years\", value_name=\"Hectares_Sown\")\n",
        "\n",
        "print(\"Features Compiled. Dataframes:\")\n",
        "print(\"Opium Sown\")\n",
        "print(opium_sown)\n",
        "print(\"Governance Indicators\")\n",
        "print(governance_indicators)\n",
        "print(\"Soil Data\")\n",
        "print(soil_data)\n",
        "print(\"Climate Data\")\n",
        "print(climate_data)"
      ]
    },
    {
      "cell_type": "code",
      "source": [
        "part_of_X_set = climate_data.merge(governance_indicators, on=\"Years\")\n",
        "X_set = soil_data.merge(part_of_X_set, on='Province', how='outer')\n",
        "print(X_set)"
      ],
      "metadata": {
        "colab": {
          "base_uri": "https://localhost:8080/"
        },
        "id": "RX11W04uMn3V",
        "outputId": "6d67dc87-a2cc-4c8a-8dec-2fbc0be32ea4"
      },
      "execution_count": 3,
      "outputs": [
        {
          "output_type": "stream",
          "name": "stdout",
          "text": [
            "     Province  Sand_Perc  Clay_Perc   OM_Perc  pH_Water        EC  Tot_N_ppm  \\\n",
            "0    Kandahar  62.086269  14.910295  0.840974  7.929618  0.742861  36.879112   \n",
            "1    Kandahar  62.086269  14.910295  0.840974  7.929618  0.742861  36.879112   \n",
            "2    Kandahar  62.086269  14.910295  0.840974  7.929618  0.742861  36.879112   \n",
            "3    Kandahar  62.086269  14.910295  0.840974  7.929618  0.742861  36.879112   \n",
            "4    Kandahar  62.086269  14.910295  0.840974  7.929618  0.742861  36.879112   \n",
            "..        ...        ...        ...       ...       ...       ...        ...   \n",
            "369    Paktya  54.983806  16.427164  1.567991  8.151691  0.197600  39.386921   \n",
            "370    Paktya  54.983806  16.427164  1.567991  8.151691  0.197600  39.386921   \n",
            "371    Paktya  54.983806  16.427164  1.567991  8.151691  0.197600  39.386921   \n",
            "372    Paktya  54.983806  16.427164  1.567991  8.151691  0.197600  39.386921   \n",
            "373    Paktya  54.983806  16.427164  1.567991  8.151691  0.197600  39.386921   \n",
            "\n",
            "         P_ppm  K_ton_per_ha     S_ppm  ...  mean_temp_Mar  mean_temp_May  \\\n",
            "0    32.179072      1.540933  7.549862  ...          29.17          23.86   \n",
            "1    32.179072      1.540933  7.549862  ...          30.24          24.53   \n",
            "2    32.179072      1.540933  7.549862  ...          29.87          24.19   \n",
            "3    32.179072      1.540933  7.549862  ...          29.19          26.04   \n",
            "4    32.179072      1.540933  7.549862  ...          30.23          25.90   \n",
            "..         ...           ...       ...  ...            ...            ...   \n",
            "369  12.788920      2.423182  7.935376  ...          19.56          18.06   \n",
            "370  12.788920      2.423182  7.935376  ...          19.88          17.09   \n",
            "371  12.788920      2.423182  7.935376  ...          20.80          17.45   \n",
            "372  12.788920      2.423182  7.935376  ...          19.69          18.44   \n",
            "373  12.788920      2.423182  7.935376  ...          20.45          16.38   \n",
            "\n",
            "     mean_temp_Nov  mean_temp_Oct  mean_temp_Sep  \\\n",
            "0            20.30          11.55           6.60   \n",
            "1            19.15          13.69           6.23   \n",
            "2            18.32          12.05           7.79   \n",
            "3            20.35          11.89           7.64   \n",
            "4            19.53          11.76           6.79   \n",
            "..             ...            ...            ...   \n",
            "369          12.64           5.16           2.00   \n",
            "370          13.35           5.99           1.28   \n",
            "371          11.36           6.10           1.44   \n",
            "372          12.13           4.71           0.45   \n",
            "373          11.01           4.51          -0.55   \n",
            "\n",
            "     Control of Corruption: Estimate  Government Effectiveness: Estimate  \\\n",
            "0                          -1.636177                           -1.454611   \n",
            "1                          -1.579174                           -1.448444   \n",
            "2                          -1.419741                           -1.360196   \n",
            "3                          -1.436510                           -1.385382   \n",
            "4                          -1.354829                           -1.332015   \n",
            "..                               ...                                 ...   \n",
            "369                        -1.526172                           -1.226401   \n",
            "370                        -1.515626                           -1.325545   \n",
            "371                        -1.487624                           -1.453096   \n",
            "372                        -1.400733                           -1.463065   \n",
            "373                        -1.475405                           -1.523115   \n",
            "\n",
            "     Political Stability and Absence of Violence/Terrorism: Estimate  \\\n",
            "0                                            -2.579152                 \n",
            "1                                            -2.502060                 \n",
            "2                                            -2.418561                 \n",
            "3                                            -2.519349                 \n",
            "4                                            -2.411068                 \n",
            "..                                                 ...                 \n",
            "369                                          -2.671054                 \n",
            "370                                          -2.801084                 \n",
            "371                                          -2.763864                 \n",
            "372                                          -2.655531                 \n",
            "373                                          -2.729808                 \n",
            "\n",
            "     Regulatory Quality: Estimate  Rule of Law: Estimate  \n",
            "0                       -1.532861              -1.845427  \n",
            "1                       -1.540586              -1.896546  \n",
            "2                       -1.193118              -1.643081  \n",
            "3                       -1.193137              -1.597348  \n",
            "4                       -1.118182              -1.445761  \n",
            "..                            ...                    ...  \n",
            "369                     -1.327688              -1.498478  \n",
            "370                     -1.336691              -1.562423  \n",
            "371                     -1.133277              -1.664038  \n",
            "372                     -1.120690              -1.713714  \n",
            "373                     -1.378587              -1.807697  \n",
            "\n",
            "[374 rows x 41 columns]\n"
          ]
        }
      ]
    },
    {
      "cell_type": "markdown",
      "source": [
        "## **Training and Test Set Splitting**\n",
        "\n",
        "For each province, for each year, the X dataset is the governance indicators, local soil features, and the mean temperature and mean precipitation in the 12 months of the precending year, while the Y is an indicator variable about whether any hectares of poppy were sown in the current year. We have climatological data from 2010 through 2020 (11 years). We will use 34 provinces * 10 years from 2010 to 2019 = 340 datapoints in total for training and testing. Once we have fine-tuned our benchmark, we will use the 2020 climatological features (and existing soil featuers) to predict the number of hectares of opium sown in 2021, and compare our prediction against the UNODC report that will come out later in the year.\n",
        "\n",
        "We will train the classifier on data from 27 (or roughly 80%) of the 34 provinces, and test the classifier on data from the remaining 7 provinces."
      ],
      "metadata": {
        "id": "DVbNFY4EhRET"
      }
    },
    {
      "cell_type": "code",
      "source": [
        "# importing random module\n",
        "import random\n",
        "\n",
        "# initializing the value of n\n",
        "n = 27\n",
        "\n",
        "# get random n provinces from list\n",
        "training_provinces = random.sample(province_list, n)\n",
        "\n",
        "X_set['Years_to_match'] = X_set['Years'] + 1\n",
        "X_set['primary_key'] = X_set['Province'] + '_' + X_set['Years_to_match'].astype(str)\n",
        "X_set.drop(['Years_to_match'], axis=1)\n",
        "X_set.set_index('primary_key', inplace=True)\n",
        "X_set.drop(X_set[X_set['Years'] >= 2020].index, inplace = True)\n",
        "\n",
        "X_train = X_set[X_set['Province'].isin(training_provinces)]\n",
        "X_test = X_set[~X_set['Province'].isin(training_provinces)]\n",
        "\n",
        "X_train.drop(['Years', 'Province'], axis=1, inplace=True)\n",
        "X_test.drop(['Years', 'Province'], axis=1, inplace=True)\n",
        "\n",
        "\n",
        "opium_sown['primary_key'] = opium_sown['Province'] + '_' + opium_sown['Years'].astype(str)\n",
        "opium_sown.set_index('primary_key', inplace=True)\n",
        "\n",
        "opium_sown['Hectares_Sown'] = opium_sown['Hectares_Sown'].astype(float)\n",
        "opium_sown['Poppy_Region'] = (opium_sown['Hectares_Sown'] > 0).astype(int)\n",
        "\n",
        "Y_all = opium_sown.copy()\n",
        "Y_all.drop(Y_all[Y_all['Years'].astype(int) <= 2010].index, inplace = True)\n",
        "\n",
        "Y_train = Y_all[Y_all['Province'].isin(training_provinces)]\n",
        "Y_test = Y_all[~Y_all['Province'].isin(training_provinces)]\n",
        "\n",
        "Y_train.drop(['Years', 'Province', 'Hectares_Sown'], axis=1, inplace=True)\n",
        "Y_test.drop(['Years', 'Province', 'Hectares_Sown'], axis=1, inplace=True)\n",
        "\n",
        "# Need to ensure X and Y datapoint match up by order of entry in respective df\n",
        "training_set_OG = pd.merge(X_train, Y_train, left_index=True, right_index=True).reset_index(drop=True)\n",
        "test_set = pd.merge(X_test, Y_test, left_index=True, right_index=True).reset_index(drop=True)\n",
        "\n",
        "# Upsampling poppy regions in the training set only to balance the two classes\n",
        "training_set_positives = training_set_OG[training_set_OG['Poppy_Region']==1]\n",
        "training_set_upsample = training_set_positives.sample(frac=0.9, replace=True, random_state=1)\n",
        "training_set = pd.concat([training_set_OG, training_set_upsample])\n",
        "\n",
        "\n",
        "Y_train = training_set[['Poppy_Region']]\n",
        "X_train = training_set.drop(['Years_to_match', 'Poppy_Region'], axis=1)\n",
        "\n",
        "Y_test = test_set[['Poppy_Region']]\n",
        "X_test = test_set.drop(['Years_to_match', 'Poppy_Region'], axis=1)\n",
        "\n",
        "print(\"X_train:\")\n",
        "print(X_train)\n",
        "print(\"Y_train:\")\n",
        "print(Y_train)\n",
        "\n",
        "print(\"X_test:\")\n",
        "print(X_test)\n",
        "print(\"Y_test:\")\n",
        "print(Y_test)"
      ],
      "metadata": {
        "colab": {
          "base_uri": "https://localhost:8080/"
        },
        "id": "KiZbzHaui6Te",
        "outputId": "e38e1bbf-e5d8-4da7-93d4-e6034baa7773"
      },
      "execution_count": 4,
      "outputs": [
        {
          "output_type": "stream",
          "name": "stdout",
          "text": [
            "X_train:\n",
            "     Sand_Perc  Clay_Perc   OM_Perc  pH_Water        EC   Tot_N_ppm  \\\n",
            "0    62.086269  14.910295  0.840974  7.929618  0.742861   36.879112   \n",
            "1    62.086269  14.910295  0.840974  7.929618  0.742861   36.879112   \n",
            "2    62.086269  14.910295  0.840974  7.929618  0.742861   36.879112   \n",
            "3    62.086269  14.910295  0.840974  7.929618  0.742861   36.879112   \n",
            "4    62.086269  14.910295  0.840974  7.929618  0.742861   36.879112   \n",
            "..         ...        ...       ...       ...       ...         ...   \n",
            "45   60.661439   4.905354  0.877024  7.993465  0.310647    0.000000   \n",
            "67   60.400277   5.867435  2.579025  7.857396  0.216705    0.000000   \n",
            "58   60.661439   4.905354  0.877024  7.993465  0.310647    0.000000   \n",
            "232  33.132586  30.843317  2.420325  8.078585  1.088076  142.083959   \n",
            "70   60.400277   5.867435  2.579025  7.857396  0.216705    0.000000   \n",
            "\n",
            "         P_ppm  K_ton_per_ha      S_ppm  CaCO_ton_per_ha3  ...  mean_temp_Mar  \\\n",
            "0    32.179072      1.540933   7.549862        954.943891  ...          29.17   \n",
            "1    32.179072      1.540933   7.549862        954.943891  ...          30.24   \n",
            "2    32.179072      1.540933   7.549862        954.943891  ...          29.87   \n",
            "3    32.179072      1.540933   7.549862        954.943891  ...          29.19   \n",
            "4    32.179072      1.540933   7.549862        954.943891  ...          30.23   \n",
            "..         ...           ...        ...               ...  ...            ...   \n",
            "45   29.910692      0.000000  31.192708        368.312660  ...          19.73   \n",
            "67    6.557247      0.000000  16.407342        708.472157  ...          32.98   \n",
            "58   29.910692      0.000000  31.192708        368.312660  ...          20.29   \n",
            "232  63.610077      0.000000   1.307929        734.947218  ...          27.06   \n",
            "70    6.557247      0.000000  16.407342        708.472157  ...          30.79   \n",
            "\n",
            "     mean_temp_May  mean_temp_Nov  mean_temp_Oct  mean_temp_Sep  \\\n",
            "0            23.86          20.30          11.55           6.60   \n",
            "1            24.53          19.15          13.69           6.23   \n",
            "2            24.19          18.32          12.05           7.79   \n",
            "3            26.04          20.35          11.89           7.64   \n",
            "4            25.90          19.53          11.76           6.79   \n",
            "..             ...            ...            ...            ...   \n",
            "45           14.52          10.05           2.55          -1.37   \n",
            "67           28.97          24.86          17.02          10.93   \n",
            "58           15.98           9.18           3.70          -0.57   \n",
            "232          21.11          15.83           9.19           4.09   \n",
            "70           25.40          22.14          12.89           7.79   \n",
            "\n",
            "     Control of Corruption: Estimate  Government Effectiveness: Estimate  \\\n",
            "0                          -1.636177                           -1.454611   \n",
            "1                          -1.579174                           -1.448444   \n",
            "2                          -1.419741                           -1.360196   \n",
            "3                          -1.436510                           -1.385382   \n",
            "4                          -1.354829                           -1.332015   \n",
            "..                               ...                                 ...   \n",
            "45                         -1.342216                           -1.323176   \n",
            "67                         -1.515626                           -1.325545   \n",
            "58                         -1.487624                           -1.453096   \n",
            "232                        -1.419741                           -1.360196   \n",
            "70                         -1.636177                           -1.454611   \n",
            "\n",
            "     Political Stability and Absence of Violence/Terrorism: Estimate  \\\n",
            "0                                            -2.579152                 \n",
            "1                                            -2.502060                 \n",
            "2                                            -2.418561                 \n",
            "3                                            -2.519349                 \n",
            "4                                            -2.411068                 \n",
            "..                                                 ...                 \n",
            "45                                           -2.571222                 \n",
            "67                                           -2.801084                 \n",
            "58                                           -2.763864                 \n",
            "232                                          -2.418561                 \n",
            "70                                           -2.579152                 \n",
            "\n",
            "     Regulatory Quality: Estimate  Rule of Law: Estimate  \n",
            "0                       -1.532861              -1.845427  \n",
            "1                       -1.540586              -1.896546  \n",
            "2                       -1.193118              -1.643081  \n",
            "3                       -1.193137              -1.597348  \n",
            "4                       -1.118182              -1.445761  \n",
            "..                            ...                    ...  \n",
            "45                      -0.997371              -1.504086  \n",
            "67                      -1.336691              -1.562423  \n",
            "58                      -1.133277              -1.664038  \n",
            "232                     -1.193118              -1.643081  \n",
            "70                      -1.532861              -1.845427  \n",
            "\n",
            "[356 rows x 39 columns]\n",
            "Y_train:\n",
            "     Poppy_Region\n",
            "0               1\n",
            "1               0\n",
            "2               0\n",
            "3               0\n",
            "4               0\n",
            "..            ...\n",
            "45              1\n",
            "67              1\n",
            "58              1\n",
            "232             1\n",
            "70              1\n",
            "\n",
            "[356 rows x 1 columns]\n",
            "X_test:\n",
            "    Sand_Perc  Clay_Perc   OM_Perc  pH_Water        EC  Tot_N_ppm      P_ppm  \\\n",
            "0   60.661439   4.905354  0.877024  7.993465  0.310647   0.000000  29.910692   \n",
            "1   60.661439   4.905354  0.877024  7.993465  0.310647   0.000000  29.910692   \n",
            "2   60.661439   4.905354  0.877024  7.993465  0.310647   0.000000  29.910692   \n",
            "3   60.661439   4.905354  0.877024  7.993465  0.310647   0.000000  29.910692   \n",
            "4   60.661439   4.905354  0.877024  7.993465  0.310647   0.000000  29.910692   \n",
            "..        ...        ...       ...       ...       ...        ...        ...   \n",
            "65  54.983806  16.427164  1.567991  8.151691  0.197600  39.386921  12.788920   \n",
            "66  54.983806  16.427164  1.567991  8.151691  0.197600  39.386921  12.788920   \n",
            "67  54.983806  16.427164  1.567991  8.151691  0.197600  39.386921  12.788920   \n",
            "68  54.983806  16.427164  1.567991  8.151691  0.197600  39.386921  12.788920   \n",
            "69  54.983806  16.427164  1.567991  8.151691  0.197600  39.386921  12.788920   \n",
            "\n",
            "    K_ton_per_ha      S_ppm  CaCO_ton_per_ha3  ...  mean_temp_Mar  \\\n",
            "0       0.000000  31.192708        368.312660  ...          19.81   \n",
            "1       0.000000  31.192708        368.312660  ...          20.79   \n",
            "2       0.000000  31.192708        368.312660  ...          20.26   \n",
            "3       0.000000  31.192708        368.312660  ...          19.78   \n",
            "4       0.000000  31.192708        368.312660  ...          20.64   \n",
            "..           ...        ...               ...  ...            ...   \n",
            "65      2.423182   7.935376       1219.878592  ...          23.22   \n",
            "66      2.423182   7.935376       1219.878592  ...          23.76   \n",
            "67      2.423182   7.935376       1219.878592  ...          24.10   \n",
            "68      2.423182   7.935376       1219.878592  ...          24.94   \n",
            "69      2.423182   7.935376       1219.878592  ...          23.93   \n",
            "\n",
            "    mean_temp_May  mean_temp_Nov  mean_temp_Oct  mean_temp_Sep  \\\n",
            "0           13.98          10.76           2.08          -1.91   \n",
            "1           14.56           8.98           0.51          -4.63   \n",
            "2           14.38           8.69           1.63          -2.51   \n",
            "3           16.60           9.18           2.45          -2.18   \n",
            "4           16.36           8.58           0.93          -2.14   \n",
            "..            ...            ...            ...            ...   \n",
            "65          19.74          15.81           8.85           3.70   \n",
            "66          21.76          15.73           8.10           5.57   \n",
            "67          20.73          16.62           8.36           3.92   \n",
            "68          21.13          14.50           9.16           4.31   \n",
            "69          22.36          15.08           7.61           2.91   \n",
            "\n",
            "    Control of Corruption: Estimate  Government Effectiveness: Estimate  \\\n",
            "0                         -1.636177                           -1.454611   \n",
            "1                         -1.579174                           -1.448444   \n",
            "2                         -1.419741                           -1.360196   \n",
            "3                         -1.436510                           -1.385382   \n",
            "4                         -1.354829                           -1.332015   \n",
            "..                              ...                                 ...   \n",
            "65                        -1.342216                           -1.323176   \n",
            "66                        -1.526172                           -1.226401   \n",
            "67                        -1.515626                           -1.325545   \n",
            "68                        -1.487624                           -1.453096   \n",
            "69                        -1.400733                           -1.463065   \n",
            "\n",
            "    Political Stability and Absence of Violence/Terrorism: Estimate  \\\n",
            "0                                           -2.579152                 \n",
            "1                                           -2.502060                 \n",
            "2                                           -2.418561                 \n",
            "3                                           -2.519349                 \n",
            "4                                           -2.411068                 \n",
            "..                                                ...                 \n",
            "65                                          -2.571222                 \n",
            "66                                          -2.671054                 \n",
            "67                                          -2.801084                 \n",
            "68                                          -2.763864                 \n",
            "69                                          -2.655531                 \n",
            "\n",
            "    Regulatory Quality: Estimate  Rule of Law: Estimate  \n",
            "0                      -1.532861              -1.845427  \n",
            "1                      -1.540586              -1.896546  \n",
            "2                      -1.193118              -1.643081  \n",
            "3                      -1.193137              -1.597348  \n",
            "4                      -1.118182              -1.445761  \n",
            "..                           ...                    ...  \n",
            "65                     -0.997371              -1.504086  \n",
            "66                     -1.327688              -1.498478  \n",
            "67                     -1.336691              -1.562423  \n",
            "68                     -1.133277              -1.664038  \n",
            "69                     -1.120690              -1.713714  \n",
            "\n",
            "[70 rows x 39 columns]\n",
            "Y_test:\n",
            "    Poppy_Region\n",
            "0              0\n",
            "1              1\n",
            "2              1\n",
            "3              1\n",
            "4              0\n",
            "..           ...\n",
            "65             0\n",
            "66             0\n",
            "67             0\n",
            "68             0\n",
            "69             0\n",
            "\n",
            "[70 rows x 1 columns]\n"
          ]
        },
        {
          "output_type": "stream",
          "name": "stderr",
          "text": [
            "/usr/local/lib/python3.7/dist-packages/pandas/core/frame.py:4913: SettingWithCopyWarning: \n",
            "A value is trying to be set on a copy of a slice from a DataFrame\n",
            "\n",
            "See the caveats in the documentation: https://pandas.pydata.org/pandas-docs/stable/user_guide/indexing.html#returning-a-view-versus-a-copy\n",
            "  errors=errors,\n"
          ]
        }
      ]
    },
    {
      "cell_type": "code",
      "source": [
        "Y_train['Poppy_Region'].value_counts()"
      ],
      "metadata": {
        "colab": {
          "base_uri": "https://localhost:8080/"
        },
        "id": "AOE5l1PV5Rc1",
        "outputId": "af4659bf-3324-4d84-8f05-af612eb1d1d7"
      },
      "execution_count": 5,
      "outputs": [
        {
          "output_type": "execute_result",
          "data": {
            "text/plain": [
              "1    182\n",
              "0    174\n",
              "Name: Poppy_Region, dtype: int64"
            ]
          },
          "metadata": {},
          "execution_count": 5
        }
      ]
    },
    {
      "cell_type": "code",
      "source": [
        "Y_test['Poppy_Region'].value_counts()"
      ],
      "metadata": {
        "colab": {
          "base_uri": "https://localhost:8080/"
        },
        "id": "2O99FBQu5bHN",
        "outputId": "8561c5ba-7c72-4d6e-f7c6-56b4b35795aa"
      },
      "execution_count": 6,
      "outputs": [
        {
          "output_type": "execute_result",
          "data": {
            "text/plain": [
              "0    54\n",
              "1    16\n",
              "Name: Poppy_Region, dtype: int64"
            ]
          },
          "metadata": {},
          "execution_count": 6
        }
      ]
    },
    {
      "cell_type": "markdown",
      "source": [
        "## **Random Forest Benchmark Classifier**"
      ],
      "metadata": {
        "id": "zAs2SYUY9q3m"
      }
    },
    {
      "cell_type": "code",
      "source": [
        "#Import Random Forest Model\n",
        "from sklearn.ensemble import RandomForestClassifier\n",
        "\n",
        "#Create a Gaussian Classifier\n",
        "clf=RandomForestClassifier(n_estimators=100)\n",
        "\n",
        "#Train the model using the training sets\n",
        "clf.fit(X_train,Y_train)\n",
        "\n",
        "Y_pred_rfclass=clf.predict(X_test)"
      ],
      "metadata": {
        "id": "odLJkYD7fk-b",
        "colab": {
          "base_uri": "https://localhost:8080/"
        },
        "outputId": "f986279d-f115-4c8d-9ff4-e21f49c97e82"
      },
      "execution_count": 7,
      "outputs": [
        {
          "output_type": "stream",
          "name": "stderr",
          "text": [
            "/usr/local/lib/python3.7/dist-packages/ipykernel_launcher.py:8: DataConversionWarning: A column-vector y was passed when a 1d array was expected. Please change the shape of y to (n_samples,), for example using ravel().\n",
            "  \n"
          ]
        }
      ]
    },
    {
      "cell_type": "code",
      "source": [
        "#Import scikit-learn metrics module for accuracy calculation\n",
        "from sklearn import metrics\n",
        "\n",
        "# Model Accuracy, how often is the classifier correct?\n",
        "print(\"Accuracy:\",metrics.accuracy_score(Y_test, Y_pred_rfclass))"
      ],
      "metadata": {
        "colab": {
          "base_uri": "https://localhost:8080/"
        },
        "id": "4A0mCjjaHgPv",
        "outputId": "7d4b7e4f-b4b7-4474-9558-3815221889eb"
      },
      "execution_count": 8,
      "outputs": [
        {
          "output_type": "stream",
          "name": "stdout",
          "text": [
            "Accuracy: 0.8\n"
          ]
        }
      ]
    },
    {
      "cell_type": "code",
      "source": [
        "# Model Precision: what percentage of positive tuples are labeled as such?\n",
        "print(\"Precision:\",metrics.precision_score(Y_test, Y_pred_rfclass))\n",
        "\n",
        "# Model Recall: what percentage of positive tuples are labelled as such?\n",
        "print(\"Recall:\",metrics.recall_score(Y_test, Y_pred_rfclass))\n",
        "\n",
        "# Model F1 Score:\n",
        "print(\"F1 Score:\",metrics.f1_score(Y_test, Y_pred_rfclass))"
      ],
      "metadata": {
        "colab": {
          "base_uri": "https://localhost:8080/"
        },
        "id": "9J1vax704KYR",
        "outputId": "66423b8a-2026-4cee-9ebe-7c886f1d9451"
      },
      "execution_count": 9,
      "outputs": [
        {
          "output_type": "stream",
          "name": "stdout",
          "text": [
            "Precision: 0.625\n",
            "Recall: 0.3125\n",
            "F1 Score: 0.4166666666666667\n"
          ]
        }
      ]
    },
    {
      "cell_type": "code",
      "source": [
        "Y_pred_rfclass"
      ],
      "metadata": {
        "colab": {
          "base_uri": "https://localhost:8080/"
        },
        "id": "UdjsCBjzPuau",
        "outputId": "b476774c-08d3-46f4-feca-e9e5f9e590e1"
      },
      "execution_count": 10,
      "outputs": [
        {
          "output_type": "execute_result",
          "data": {
            "text/plain": [
              "array([1, 1, 0, 1, 1, 1, 0, 1, 1, 1, 0, 0, 0, 0, 0, 0, 0, 0, 0, 0, 0, 0,\n",
              "       0, 0, 0, 0, 0, 0, 0, 0, 0, 0, 0, 0, 0, 0, 0, 0, 0, 0, 0, 0, 0, 0,\n",
              "       0, 0, 0, 0, 0, 0, 0, 0, 0, 0, 0, 0, 0, 0, 0, 0, 0, 0, 0, 0, 0, 0,\n",
              "       0, 0, 0, 0])"
            ]
          },
          "metadata": {},
          "execution_count": 10
        }
      ]
    },
    {
      "cell_type": "markdown",
      "source": [
        "# **SVM Classifier**"
      ],
      "metadata": {
        "id": "H8o7iAKK4B30"
      }
    },
    {
      "cell_type": "code",
      "source": [
        "#Import svm model\n",
        "from sklearn import svm\n",
        "\n",
        "#Create a svm Classifier\n",
        "clf = svm.SVC(kernel='rbf', C=1.0, gamma='scale') # Non-Linear problem, using radial basis function kernel\n",
        "\n",
        "#Train the model using the training sets\n",
        "clf.fit(X_train, Y_train)\n",
        "\n",
        "#Predict the response for test dataset\n",
        "Y_pred_svm = clf.predict(X_test)"
      ],
      "metadata": {
        "id": "Xc1AVMZ9Th7B",
        "colab": {
          "base_uri": "https://localhost:8080/"
        },
        "outputId": "b228e91e-0996-4925-800f-e4ec7a0f5cd6"
      },
      "execution_count": 11,
      "outputs": [
        {
          "output_type": "stream",
          "name": "stderr",
          "text": [
            "/usr/local/lib/python3.7/dist-packages/sklearn/utils/validation.py:993: DataConversionWarning: A column-vector y was passed when a 1d array was expected. Please change the shape of y to (n_samples, ), for example using ravel().\n",
            "  y = column_or_1d(y, warn=True)\n"
          ]
        }
      ]
    },
    {
      "cell_type": "code",
      "source": [
        "#Import scikit-learn metrics module for accuracy calculation\n",
        "from sklearn import metrics\n",
        "\n",
        "# Model Accuracy: how often is the classifier correct?\n",
        "print(\"Accuracy:\",metrics.accuracy_score(Y_test, Y_pred_svm))"
      ],
      "metadata": {
        "id": "PMEkLbKPp8bT",
        "colab": {
          "base_uri": "https://localhost:8080/"
        },
        "outputId": "206a74f8-86e3-4ee7-92f6-270994d08878"
      },
      "execution_count": 12,
      "outputs": [
        {
          "output_type": "stream",
          "name": "stdout",
          "text": [
            "Accuracy: 0.7142857142857143\n"
          ]
        }
      ]
    },
    {
      "cell_type": "code",
      "source": [
        "# Model Precision: what percentage of positive tuples are labeled as such?\n",
        "print(\"Precision:\",metrics.precision_score(Y_test, Y_pred_svm))\n",
        "\n",
        "# Model Recall: what percentage of positive tuples are labelled as such?\n",
        "print(\"Recall:\",metrics.recall_score(Y_test, Y_pred_svm))\n",
        "\n",
        "# Model F1 Score:\n",
        "print(\"F1 Score:\",metrics.f1_score(Y_test, Y_pred_svm))"
      ],
      "metadata": {
        "colab": {
          "base_uri": "https://localhost:8080/"
        },
        "id": "nSKWNXAL2kN8",
        "outputId": "fdbcc73c-99e0-4397-f44c-40a57ea8e490"
      },
      "execution_count": 13,
      "outputs": [
        {
          "output_type": "stream",
          "name": "stdout",
          "text": [
            "Precision: 0.43333333333333335\n",
            "Recall: 0.8125\n",
            "F1 Score: 0.5652173913043479\n"
          ]
        }
      ]
    },
    {
      "cell_type": "code",
      "source": [
        "Y_pred_svm"
      ],
      "metadata": {
        "colab": {
          "base_uri": "https://localhost:8080/"
        },
        "id": "ru3UgecR_Ata",
        "outputId": "882d2839-66d2-4725-c605-c436472d14a2"
      },
      "execution_count": 14,
      "outputs": [
        {
          "output_type": "execute_result",
          "data": {
            "text/plain": [
              "array([1, 1, 1, 1, 1, 1, 1, 1, 1, 1, 1, 1, 1, 1, 1, 1, 1, 1, 1, 1, 0, 0,\n",
              "       0, 0, 0, 0, 0, 0, 0, 0, 0, 0, 0, 0, 0, 0, 0, 0, 0, 0, 0, 0, 0, 0,\n",
              "       0, 0, 0, 0, 0, 0, 1, 1, 1, 1, 1, 1, 1, 1, 1, 1, 0, 0, 0, 0, 0, 0,\n",
              "       0, 0, 0, 0])"
            ]
          },
          "metadata": {},
          "execution_count": 14
        }
      ]
    }
  ]
}