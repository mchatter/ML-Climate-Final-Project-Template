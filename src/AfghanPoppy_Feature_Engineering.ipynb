{
  "nbformat": 4,
  "nbformat_minor": 0,
  "metadata": {
    "colab": {
      "name": "AfghanPoppy_Feature_Engineering.ipynb",
      "provenance": [],
      "collapsed_sections": []
    },
    "kernelspec": {
      "name": "python3",
      "display_name": "Python 3"
    },
    "language_info": {
      "name": "python"
    }
  },
  "cells": [
    {
      "cell_type": "markdown",
      "source": [
        "**Feature Engineering**\n",
        "\n",
        "Part 1: Get the CSVs into DataFrames\n",
        "\n",
        "Opium Sown: Have number of sown hectares for each district in each province for each year between 2010 - 2020, except for part of Bamyan, Day Kundi, Farah, Faryab, Ghazni, and Ghor, where we have 2008-2018 data. Pending further investigation, we will code these provinces with zeros. All fields marked '-' or 'p-f' (poppy-free) in the CSV are replaced by zeros. Data is of numerical type. All NaN values are set to zero.\n",
        "\n",
        "Soil Data: Dropped the WRB Codes column because it contained numerous inaccuracies as an artefact of the scraping process and because it was collinear with the Soil Type column. Soil Type column was categorical and has been turned into dummy variables with one hot encoding. All other data was of numerical type. Province name is broadcast for each row of soil sample information. All fields marked (-)(-) in the CSV are replaced by zeros. Dataframe only contains the estimates of sown areas. All margin of error information is removed from the dataframe. All NaN values are set to zero.\n",
        "\n",
        "Temperature and Precipitation Data: All data is transposed such that the years are columns and months are rows. Province name is broadcast for each row of climatological information. All NaN values are set to zero. Data is of numerical type.\n",
        "\n"
      ],
      "metadata": {
        "id": "CN1YjZhmVqU4"
      }
    },
    {
      "cell_type": "code",
      "source": [
        "import pandas as pd\n",
        "import os"
      ],
      "metadata": {
        "id": "CFb6EZYVVyBp"
      },
      "execution_count": 1,
      "outputs": []
    },
    {
      "cell_type": "code",
      "execution_count": 6,
      "metadata": {
        "colab": {
          "base_uri": "https://localhost:8080/"
        },
        "id": "Da4numPnQYds",
        "outputId": "978d298a-8743-486e-d37b-cb0f3f96f97a"
      },
      "outputs": [
        {
          "output_type": "stream",
          "name": "stdout",
          "text": [
            "Features Compiled. Dataframes:\n",
            "Opium Sown\n",
            "    Province                     District 2008 2009  ... 2017 2018 2019 2020\n",
            "0     Bamyan   Bamyan (Provincial Center)    0    0  ...    0    0    0    0\n",
            "1     Bamyan                      Kahmard    0    0  ...    0    0    0    0\n",
            "2     Bamyan                       Panjab    0    0  ...    0    0    0    0\n",
            "3     Bamyan                      Saighan    0    0  ...    0    0    0    0\n",
            "4     Bamyan                       Shebar    0    0  ...    0    0    0    0\n",
            "..       ...                          ...  ...  ...  ...  ...  ...  ...  ...\n",
            "481   Takhar                     Namak Ab    0    0  ...    0    0    0    0\n",
            "482   Takhar                       Rustaq    0    0  ...   23  193    0    0\n",
            "483   Takhar  Taloqan (Provincial Center)    0    0  ...    0    1    0    0\n",
            "484   Takhar                       Warsaj    0    0  ...    0    0    0    0\n",
            "485   Takhar                   Yangi Qala    0    0  ...    0    0    0    0\n",
            "\n",
            "[486 rows x 15 columns]\n",
            "Soil Data\n",
            "    Area (km2)  ... Soil_Type_Hyperskeletic Cryosol\n",
            "0     1,618.70  ...                             0.0\n",
            "1         70.6  ...                             0.0\n",
            "2     2,846.60  ...                             0.0\n",
            "3        177.1  ...                             0.0\n",
            "4     3,818.00  ...                             0.0\n",
            "..         ...  ...                             ...\n",
            "128          0  ...                             0.0\n",
            "129          0  ...                             0.0\n",
            "130          0  ...                             1.0\n",
            "131          0  ...                             0.0\n",
            "132          0  ...                             0.0\n",
            "\n",
            "[133 rows x 99 columns]\n",
            "Precipitation Data\n",
            "Months    2010   2011    2012   2013  ...    2018    2019  2020  Province\n",
            "0        29.30  69.00   57.41  25.63  ...   74.80   94.92     0    Wardak\n",
            "1       131.49  94.48  160.17  76.45  ...   75.23   68.90     0    Wardak\n",
            "2        83.54  98.26   92.21  70.97  ...   92.63  140.18     0    Wardak\n",
            "3        65.00  95.31   83.44  90.92  ...  113.64  116.75     0    Wardak\n",
            "4        44.62  62.83   48.96  54.26  ...   50.61   65.75     0    Wardak\n",
            "..         ...    ...     ...    ...  ...     ...     ...   ...       ...\n",
            "403       0.00   0.00    0.00   0.00  ...    0.00    0.00     0   Badghis\n",
            "404       0.00   0.00    0.00   0.00  ...    0.00    0.00     0   Badghis\n",
            "405      14.08   9.90   13.08  10.53  ...    3.79    3.03     0   Badghis\n",
            "406      26.42  23.11   13.01  28.01  ...   12.48   15.77     0   Badghis\n",
            "407      24.19  49.22   26.43  22.64  ...   23.51   33.81     0   Badghis\n",
            "\n",
            "[408 rows x 12 columns]\n",
            "Mean Temperature Data\n",
            "Months   2010   2011   2012   2013   2014  ...   2017   2018   2019   2020  Province\n",
            "0        3.00   0.31  -1.12   1.86   1.62  ...  -0.09   1.24   3.10  -0.34   Badghis\n",
            "1        2.39   1.14  -1.53   3.65  -2.45  ...   0.01   3.16   2.71   4.47   Badghis\n",
            "2        9.19   6.45   5.71   8.86   7.01  ...   6.64  10.95   7.79   7.60   Badghis\n",
            "3       14.01  13.51  14.68  11.84  12.03  ...  12.30  12.72  12.13  11.58   Badghis\n",
            "4       18.37  20.15  18.20  18.44  19.49  ...  20.39  17.66  18.06  18.61   Badghis\n",
            "..        ...    ...    ...    ...    ...  ...    ...    ...    ...    ...       ...\n",
            "403     19.01  19.60  19.67  19.71  19.91  ...  19.66  20.49  19.49  20.25     Kabul\n",
            "404     15.36  15.73  15.67  17.30  17.38  ...  16.54  16.79  17.52  15.61     Kabul\n",
            "405     12.42  11.36  10.46  11.61  11.10  ...  12.11  10.53  11.10   9.74     Kabul\n",
            "406      4.58   4.84   4.27   4.49   3.96  ...   4.95   4.70   3.03   2.86     Kabul\n",
            "407     -1.58  -2.62  -1.02  -0.43  -1.18  ...  -0.41  -0.34  -0.79  -2.64     Kabul\n",
            "\n",
            "[408 rows x 12 columns]\n"
          ]
        }
      ],
      "source": [
        "tract_directory = \"/content/ML-Climate-Final-Project-Template/data\"\n",
        "opium_sown = None\n",
        "soil_data = None\n",
        "temp_data = None\n",
        "precip_data = None\n",
        "for filename in os.listdir(tract_directory):\n",
        "  fn = tract_directory + '/' + filename\n",
        "  if \"Opium\" in fn:\n",
        "    section_frame = pd.read_csv (fn, header=0)\n",
        "    section_frame = section_frame.loc[:, ~section_frame.columns.str.contains('^Unnamed')]\n",
        "    section_frame = section_frame[section_frame.Province.str.contains(\"total\", case=False) == False]\n",
        "    section_frame = section_frame[section_frame.District.str.contains(\"total\", case=False) == False]\n",
        "    section_frame.replace(regex={'-': 0,  'p-f': 0}, inplace=True)\n",
        "    section_frame.dropna(how='all', inplace=True)\n",
        "    if opium_sown is None:\n",
        "      opium_sown = section_frame\n",
        "    else:\n",
        "      opium_sown = pd.concat([opium_sown, section_frame]).reset_index(drop=True)\n",
        "      opium_sown.fillna(0, inplace=True)\n",
        "\n",
        "  if \"Soil\" in fn:\n",
        "    section_frame = pd.read_csv (fn, header=0)\n",
        "    section_frame.replace(regex={' \\(±.*': '', '\\(-\\)\\(-\\)': 0,  '\\(±.*': ''}, inplace=True)\n",
        "    section_frame.dropna(how='all', inplace=True)\n",
        "    section_frame.drop(['WRB Code'], axis=1, inplace=True)\n",
        "    province = filename.split('_')[0]\n",
        "    section_frame['Province']=province\n",
        "    section_frame = pd.get_dummies(section_frame, columns=['Soil type'], prefix=\"Soil_Type\")\n",
        "    if soil_data is None:\n",
        "      soil_data = section_frame\n",
        "    else:\n",
        "      soil_data = pd.concat([soil_data, section_frame]).reset_index(drop=True)\n",
        "      soil_data.fillna(0, inplace=True)\n",
        "\n",
        "  if (\"pr\" in fn) or (\"tas\" in fn):\n",
        "    info = pd.read_csv(fn, skiprows=2, nrows=0)\n",
        "    section_frame = pd.read_csv (fn, skiprows=3)\n",
        "    section_frame.rename(columns={'Unnamed: 0':'Months'}, inplace=True )\n",
        "    section_frame['Months'] = section_frame['Months'].astype(str)\n",
        "    section_frame_transposed = section_frame.T\n",
        "    section_frame_transposed.columns = section_frame_transposed.iloc[0]\n",
        "    section_frame_transposed.drop(section_frame_transposed.index[0], inplace=True)\n",
        "    section_frame_transposed.reset_index(drop=True)\n",
        "    section_frame_transposed.drop(columns=section_frame_transposed.columns[:109], axis=1, inplace=True)\n",
        "    section_frame_transposed['Province']=info.columns[1]\n",
        "    section_frame_transposed.fillna(0, inplace=True)\n",
        "    if \"pr\" in fn:\n",
        "      if precip_data is None:\n",
        "        precip_data = section_frame_transposed\n",
        "      else:\n",
        "        precip_data = pd.concat([precip_data, section_frame_transposed]).reset_index(drop=True)\n",
        "    elif \"tas\" in fn:\n",
        "      if temp_data is None:\n",
        "        temp_data = section_frame_transposed\n",
        "      else:\n",
        "        temp_data = pd.concat([temp_data, section_frame_transposed]).reset_index(drop=True)\n",
        "\n",
        "\n",
        "print(\"Features Compiled. Dataframes:\")\n",
        "print(\"Opium Sown\")\n",
        "print(opium_sown)\n",
        "print(\"Soil Data\")\n",
        "print(soil_data)\n",
        "print(\"Precipitation Data\")\n",
        "print(precip_data)\n",
        "print(\"Mean Temperature Data\")\n",
        "print(temp_data)"
      ]
    },
    {
      "cell_type": "code",
      "source": [
        "print(soil_data)"
      ],
      "metadata": {
        "colab": {
          "base_uri": "https://localhost:8080/"
        },
        "id": "RX11W04uMn3V",
        "outputId": "9ae22be1-603b-46db-e689-7f71f22224b7"
      },
      "execution_count": null,
      "outputs": [
        {
          "output_type": "stream",
          "name": "stdout",
          "text": [
            "0       Hirat\n",
            "1       Hirat\n",
            "2       Hirat\n",
            "3       Hirat\n",
            "4       Hirat\n",
            "        ...  \n",
            "128    Takhar\n",
            "129    Takhar\n",
            "130    Takhar\n",
            "131    Takhar\n",
            "132    Takhar\n",
            "Name: Province, Length: 133, dtype: object\n"
          ]
        }
      ]
    }
  ]
}